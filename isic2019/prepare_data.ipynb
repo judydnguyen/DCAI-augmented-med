{
 "cells": [
  {
   "cell_type": "code",
   "execution_count": 1,
   "metadata": {},
   "outputs": [],
   "source": [
    "import torch\n",
    "import pandas as pd\n",
    "import os\n",
    "from tqdm import tqdm\n",
    "import numpy as np\n",
    "from PIL import Image\n",
    "from pathlib import Path\n",
    "import torchvision\n",
    "import matplotlib.pyplot as plt\n",
    "from torchvision import transforms\n",
    "import sys"
   ]
  },
  {
   "cell_type": "markdown",
   "metadata": {},
   "source": [
    "### Process raw data and split stuff"
   ]
  },
  {
   "cell_type": "code",
   "execution_count": 2,
   "metadata": {},
   "outputs": [],
   "source": [
    "# override import path\n",
    "sys.path.append(os.path.abspath(\"..\"))\n",
    "from src.machine_override import isic_dir as data_dir  # NOTE: remember to define this!\n",
    "from src.utils import set_seed"
   ]
  },
  {
   "cell_type": "code",
   "execution_count": 3,
   "metadata": {},
   "outputs": [],
   "source": [
    "def pdir(loc):\n",
    "    # patch base file with location\n",
    "    return os.path.join(data_dir, loc)"
   ]
  },
  {
   "cell_type": "code",
   "execution_count": 4,
   "metadata": {},
   "outputs": [],
   "source": [
    "gt_df = pd.read_csv(pdir(\"ISIC_2019_Training_GroundTruth.csv\"))\n",
    "meta_df = pd.read_csv(pdir(\"ISIC_2019_Training_Metadata.csv\"))"
   ]
  },
  {
   "cell_type": "code",
   "execution_count": 5,
   "metadata": {},
   "outputs": [],
   "source": [
    "data_df = (\n",
    "    meta_df.merge(gt_df, how=\"inner\", on=\"image\").sample(frac=1).reset_index(drop=True)\n",
    ")"
   ]
  },
  {
   "cell_type": "code",
   "execution_count": 6,
   "metadata": {},
   "outputs": [],
   "source": [
    "data_df.set_index(\"image\", inplace=True)"
   ]
  },
  {
   "cell_type": "code",
   "execution_count": 7,
   "metadata": {},
   "outputs": [
    {
     "data": {
      "text/html": [
       "<div>\n",
       "<style scoped>\n",
       "    .dataframe tbody tr th:only-of-type {\n",
       "        vertical-align: middle;\n",
       "    }\n",
       "\n",
       "    .dataframe tbody tr th {\n",
       "        vertical-align: top;\n",
       "    }\n",
       "\n",
       "    .dataframe thead th {\n",
       "        text-align: right;\n",
       "    }\n",
       "</style>\n",
       "<table border=\"1\" class=\"dataframe\">\n",
       "  <thead>\n",
       "    <tr style=\"text-align: right;\">\n",
       "      <th></th>\n",
       "      <th>age_approx</th>\n",
       "      <th>anatom_site_general</th>\n",
       "      <th>lesion_id</th>\n",
       "      <th>sex</th>\n",
       "      <th>MEL</th>\n",
       "      <th>NV</th>\n",
       "      <th>BCC</th>\n",
       "      <th>AK</th>\n",
       "      <th>BKL</th>\n",
       "      <th>DF</th>\n",
       "      <th>VASC</th>\n",
       "      <th>SCC</th>\n",
       "      <th>UNK</th>\n",
       "    </tr>\n",
       "    <tr>\n",
       "      <th>image</th>\n",
       "      <th></th>\n",
       "      <th></th>\n",
       "      <th></th>\n",
       "      <th></th>\n",
       "      <th></th>\n",
       "      <th></th>\n",
       "      <th></th>\n",
       "      <th></th>\n",
       "      <th></th>\n",
       "      <th></th>\n",
       "      <th></th>\n",
       "      <th></th>\n",
       "      <th></th>\n",
       "    </tr>\n",
       "  </thead>\n",
       "  <tbody>\n",
       "    <tr>\n",
       "      <th>ISIC_0010477</th>\n",
       "      <td>55.0</td>\n",
       "      <td>posterior torso</td>\n",
       "      <td>NaN</td>\n",
       "      <td>female</td>\n",
       "      <td>0.0</td>\n",
       "      <td>1.0</td>\n",
       "      <td>0.0</td>\n",
       "      <td>0.0</td>\n",
       "      <td>0.0</td>\n",
       "      <td>0.0</td>\n",
       "      <td>0.0</td>\n",
       "      <td>0.0</td>\n",
       "      <td>0.0</td>\n",
       "    </tr>\n",
       "    <tr>\n",
       "      <th>ISIC_0060475</th>\n",
       "      <td>45.0</td>\n",
       "      <td>anterior torso</td>\n",
       "      <td>BCN_0003634</td>\n",
       "      <td>female</td>\n",
       "      <td>0.0</td>\n",
       "      <td>1.0</td>\n",
       "      <td>0.0</td>\n",
       "      <td>0.0</td>\n",
       "      <td>0.0</td>\n",
       "      <td>0.0</td>\n",
       "      <td>0.0</td>\n",
       "      <td>0.0</td>\n",
       "      <td>0.0</td>\n",
       "    </tr>\n",
       "    <tr>\n",
       "      <th>ISIC_0057372</th>\n",
       "      <td>40.0</td>\n",
       "      <td>lower extremity</td>\n",
       "      <td>BCN_0002997</td>\n",
       "      <td>female</td>\n",
       "      <td>0.0</td>\n",
       "      <td>1.0</td>\n",
       "      <td>0.0</td>\n",
       "      <td>0.0</td>\n",
       "      <td>0.0</td>\n",
       "      <td>0.0</td>\n",
       "      <td>0.0</td>\n",
       "      <td>0.0</td>\n",
       "      <td>0.0</td>\n",
       "    </tr>\n",
       "    <tr>\n",
       "      <th>ISIC_0027803</th>\n",
       "      <td>70.0</td>\n",
       "      <td>anterior torso</td>\n",
       "      <td>HAM_0002288</td>\n",
       "      <td>male</td>\n",
       "      <td>0.0</td>\n",
       "      <td>1.0</td>\n",
       "      <td>0.0</td>\n",
       "      <td>0.0</td>\n",
       "      <td>0.0</td>\n",
       "      <td>0.0</td>\n",
       "      <td>0.0</td>\n",
       "      <td>0.0</td>\n",
       "      <td>0.0</td>\n",
       "    </tr>\n",
       "    <tr>\n",
       "      <th>ISIC_0028352</th>\n",
       "      <td>55.0</td>\n",
       "      <td>posterior torso</td>\n",
       "      <td>HAM_0006423</td>\n",
       "      <td>male</td>\n",
       "      <td>1.0</td>\n",
       "      <td>0.0</td>\n",
       "      <td>0.0</td>\n",
       "      <td>0.0</td>\n",
       "      <td>0.0</td>\n",
       "      <td>0.0</td>\n",
       "      <td>0.0</td>\n",
       "      <td>0.0</td>\n",
       "      <td>0.0</td>\n",
       "    </tr>\n",
       "  </tbody>\n",
       "</table>\n",
       "</div>"
      ],
      "text/plain": [
       "              age_approx anatom_site_general    lesion_id     sex  MEL   NV  \\\n",
       "image                                                                         \n",
       "ISIC_0010477        55.0     posterior torso          NaN  female  0.0  1.0   \n",
       "ISIC_0060475        45.0      anterior torso  BCN_0003634  female  0.0  1.0   \n",
       "ISIC_0057372        40.0     lower extremity  BCN_0002997  female  0.0  1.0   \n",
       "ISIC_0027803        70.0      anterior torso  HAM_0002288    male  0.0  1.0   \n",
       "ISIC_0028352        55.0     posterior torso  HAM_0006423    male  1.0  0.0   \n",
       "\n",
       "              BCC   AK  BKL   DF  VASC  SCC  UNK  \n",
       "image                                             \n",
       "ISIC_0010477  0.0  0.0  0.0  0.0   0.0  0.0  0.0  \n",
       "ISIC_0060475  0.0  0.0  0.0  0.0   0.0  0.0  0.0  \n",
       "ISIC_0057372  0.0  0.0  0.0  0.0   0.0  0.0  0.0  \n",
       "ISIC_0027803  0.0  0.0  0.0  0.0   0.0  0.0  0.0  \n",
       "ISIC_0028352  0.0  0.0  0.0  0.0   0.0  0.0  0.0  "
      ]
     },
     "execution_count": 7,
     "metadata": {},
     "output_type": "execute_result"
    }
   ],
   "source": [
    "data_df.head()"
   ]
  },
  {
   "cell_type": "code",
   "execution_count": 8,
   "metadata": {},
   "outputs": [],
   "source": [
    "classes = [\"MEL\", \"NV\", \"BCC\", \"AK\", \"BKL\", \"DF\", \"VASC\", \"SCC\"]"
   ]
  },
  {
   "cell_type": "code",
   "execution_count": 9,
   "metadata": {},
   "outputs": [],
   "source": [
    "data = data_df[classes]"
   ]
  },
  {
   "cell_type": "code",
   "execution_count": 10,
   "metadata": {},
   "outputs": [],
   "source": [
    "# consistent data split\n",
    "set_seed(42)\n",
    "\n",
    "# split data into the format of the custom covid dataset\n",
    "ratio = 0.85\n",
    "\n",
    "# split data into train and test per class\n",
    "for c in classes:\n",
    "    class_data = data[data[c] == 1]\n",
    "    # get filenames\n",
    "    files = class_data.index.values\n",
    "    # split into train and test after shuffling\n",
    "    np.random.shuffle(files)\n",
    "    split = int(len(files) * ratio)\n",
    "    train_files = files[:split]\n",
    "    test_files = files[split:]\n",
    "\n",
    "    # create directories\n",
    "    Path(f\"data/train/{c}\").mkdir(parents=True, exist_ok=True)\n",
    "    Path(f\"data/test/{c}\").mkdir(parents=True, exist_ok=True)\n",
    "\n",
    "    # copy files\n",
    "    for f in train_files:\n",
    "        os.system(f\"cp {pdir('ISIC_2019_Training_Input/ISIC_2019_Training_Input')}/{f}.jpg data/train/{c}/{f}.jpg\")\n",
    "    for f in test_files:\n",
    "        os.system(f\"cp {pdir('ISIC_2019_Training_Input/ISIC_2019_Training_Input')}/{f}.jpg data/test/{c}/{f}.jpg\")"
   ]
  },
  {
   "cell_type": "code",
   "execution_count": 11,
   "metadata": {},
   "outputs": [
    {
     "data": {
      "text/plain": [
       "(25331,)"
      ]
     },
     "execution_count": 11,
     "metadata": {},
     "output_type": "execute_result"
    }
   ],
   "source": [
    "data.index.values.shape"
   ]
  },
  {
   "cell_type": "markdown",
   "metadata": {},
   "source": [
    "### Code from previous dataset builder notebook"
   ]
  },
  {
   "cell_type": "code",
   "execution_count": 12,
   "metadata": {},
   "outputs": [],
   "source": [
    "img_dim = 64\n",
    "N_rot = 2\n",
    "N_flip = 2\n",
    "N_tran = 4\n",
    "N_scal = 4\n",
    "N_color = 2\n",
    "\n",
    "transform_list = []\n",
    "transform_list.append(transforms.Resize((img_dim * 2, img_dim * 2), interpolation=2))\n",
    "\n",
    "for i in range(N_color):\n",
    "    transform_list.append(\n",
    "        transforms.RandomApply(\n",
    "            [\n",
    "                transforms.ColorJitter(\n",
    "                    brightness=0.5, contrast=0.5, saturation=0.5, hue=0.5\n",
    "                )\n",
    "            ],\n",
    "            p=0.5,\n",
    "        )\n",
    "    )\n",
    "\n",
    "for i in range(N_rot):\n",
    "    transform_list.append(\n",
    "        transforms.RandomApply([transforms.RandomRotation(degrees=(-5, 5))], p=0.5)\n",
    "    )\n",
    "\n",
    "for i in range(N_flip):\n",
    "    transform_list.append(transforms.RandomHorizontalFlip(p=0.5))\n",
    "\n",
    "for i in range(N_scal):\n",
    "    transform_list.append(\n",
    "        transforms.RandomApply(\n",
    "            [transforms.RandomAffine(degrees=0, scale=(0.9, 1.1))], p=0.5\n",
    "        )\n",
    "    )\n",
    "\n",
    "for i in range(N_tran):\n",
    "    transform_list.append(\n",
    "        transforms.RandomApply(\n",
    "            [transforms.RandomAffine(degrees=0, translate=(0.1, 0.1))], p=0.5\n",
    "        )\n",
    "    )\n",
    "\n",
    "transform_list.append(transforms.Resize((img_dim, img_dim), interpolation=2))\n",
    "\n",
    "transform_list.append(transforms.ToTensor())\n",
    "\n",
    "transform = transforms.Compose(transform_list)\n",
    "\n",
    "test_transform = transforms.Compose(\n",
    "    [\n",
    "        transforms.Resize((img_dim, img_dim), interpolation=2),\n",
    "        transforms.ToTensor(),\n",
    "    ]\n",
    ")"
   ]
  },
  {
   "cell_type": "code",
   "execution_count": 13,
   "metadata": {},
   "outputs": [],
   "source": [
    "class MyImageFolder(torchvision.datasets.ImageFolder):\n",
    "    def __getitem__(self, index):\n",
    "        return (\n",
    "            super(MyImageFolder, self).__getitem__(index)[0],\n",
    "            super(MyImageFolder, self).__getitem__(index)[1],\n",
    "            self.imgs[index][0],\n",
    "        )  # return image path"
   ]
  },
  {
   "cell_type": "code",
   "execution_count": 14,
   "metadata": {},
   "outputs": [],
   "source": [
    "batch_size = 1\n",
    "data_dir = \"data\"  # noqa\n",
    "\n",
    "trainset = MyImageFolder(os.path.join(data_dir, \"train/\"), transform=transform)\n",
    "trainloader = torch.utils.data.DataLoader(trainset, batch_size=batch_size, shuffle=True)\n",
    "testset = MyImageFolder(os.path.join(data_dir, \"test/\"), transform=test_transform)\n",
    "testloader = torch.utils.data.DataLoader(testset, batch_size=batch_size, shuffle=False)\n",
    "normalset = MyImageFolder(os.path.join(data_dir, \"train/\"), transform=test_transform)\n",
    "normalloader = torch.utils.data.DataLoader(\n",
    "    normalset, batch_size=batch_size, shuffle=False\n",
    ")"
   ]
  },
  {
   "cell_type": "code",
   "execution_count": 15,
   "metadata": {},
   "outputs": [],
   "source": [
    "# functions to show an image\n",
    "def imshow(img):\n",
    "    # img = img / 2 + 0.5     # unnormalize\n",
    "    npimg = img.numpy()\n",
    "    plt.imshow(np.transpose(npimg, (1, 2, 0)))\n",
    "    plt.show()"
   ]
  },
  {
   "cell_type": "code",
   "execution_count": 16,
   "metadata": {},
   "outputs": [
    {
     "data": {
      "image/png": "[encoded data removed]",
      "text/plain": [
       "<Figure size 640x480 with 1 Axes>"
      ]
     },
     "metadata": {},
     "output_type": "display_data"
    },
    {
     "name": "stdout",
     "output_type": "stream",
     "text": [
      "   DF\n"
     ]
    }
   ],
   "source": [
    "# get some random training images\n",
    "for images, labels, path in trainloader:\n",
    "    break\n",
    "\n",
    "# show images\n",
    "imshow(torchvision.utils.make_grid(images))\n",
    "# print labels\n",
    "print(\" \".join(\"%5s\" % classes[labels[j]] for j in range(batch_size)))\n",
    "\n",
    "name, ext = (path[0].split(\"/\")[-1]).rsplit(\".\", 1)"
   ]
  },
  {
   "cell_type": "markdown",
   "metadata": {},
   "source": [
    "The point of the following code is to write down the _transformed_ data."
   ]
  },
  {
   "cell_type": "code",
   "execution_count": 17,
   "metadata": {},
   "outputs": [],
   "source": [
    "# MAKE FOLDER TEST\n",
    "for images, labels, path in testloader:\n",
    "    npimg = np.transpose(images.squeeze(0).numpy(), (1, 2, 0))\n",
    "    img = Image.fromarray((npimg * 255).astype(np.uint8))\n",
    "    path = path[0].replace('/test/', '/test_aug/')\n",
    "    Path(os.path.dirname(path)).mkdir(parents=True, exist_ok=True)\n",
    "    img.save(path)"
   ]
  },
  {
   "cell_type": "code",
   "execution_count": 18,
   "metadata": {},
   "outputs": [],
   "source": [
    "# MAKE FOLDER 0\n",
    "for images, labels, path in normalloader:\n",
    "    npimg = np.transpose(images.squeeze(0).numpy(), (1, 2, 0))\n",
    "    img = Image.fromarray((npimg * 255).astype(np.uint8))\n",
    "    # overwrite\n",
    "    path = path[0].replace('/train/', '/train_aug/')\n",
    "    Path(os.path.dirname(path)).mkdir(parents=True, exist_ok=True)\n",
    "    img.save(path)"
   ]
  },
  {
   "cell_type": "code",
   "execution_count": 19,
   "metadata": {},
   "outputs": [
    {
     "data": {
      "image/png": "[encoded data removed]",
      "text/plain": [
       "<PIL.Image.Image image mode=RGB size=64x64>"
      ]
     },
     "metadata": {},
     "output_type": "display_data"
    }
   ],
   "source": [
    "for images, labels, path in normalloader:\n",
    "    break\n",
    "\n",
    "npimg = np.transpose(images.squeeze(0).numpy(), (1, 2, 0))\n",
    "im = Image.fromarray((npimg * 255).astype(np.uint8))\n",
    "display(im)"
   ]
  },
  {
   "cell_type": "code",
   "execution_count": null,
   "metadata": {},
   "outputs": [
    {
     "name": "stdout",
     "output_type": "stream",
     "text": [
      "folder start:  4000\n"
     ]
    }
   ],
   "source": [
    "# base training set is 25531 * 0.85 = ~21701 data points,\n",
    "# and 4k * 8 classes = 32k is the above _rounded up_\n",
    "sets = [4_000, 8_000, 12_000, 16_000]\n",
    "\n",
    "class_count = np.zeros((len(classes),), dtype=int) # sequential\n",
    "for fold_class_size in sets:\n",
    "\n",
    "    # reset seed because I had to restart the kernel\n",
    "    set_seed(42)\n",
    "    \n",
    "    print(\"folder start: \", fold_class_size)\n",
    "    dataiter = iter(trainloader)\n",
    "\n",
    "    while np.any(class_count < fold_class_size):\n",
    "        \n",
    "        # loop back with random\n",
    "        try:\n",
    "            images, labels, path = next(dataiter)\n",
    "        except StopIteration:\n",
    "            dataiter = iter(trainloader)\n",
    "            images, labels, path = next(dataiter)\n",
    "\n",
    "        npimg = np.transpose(images.squeeze(0).numpy(), (1, 2, 0))\n",
    "        img = Image.fromarray((npimg * 255).astype(np.uint8))\n",
    "\n",
    "        if class_count[labels[0]] < fold_class_size:\n",
    "            img_path = path[0].replace(\"/train/\", f\"/train_classic/{str(fold_class_size)}/\")\n",
    "            img_dir, img_name = img_path.rsplit(\"/\", 1)\n",
    "            img_path = img_dir + f\"/{fold_class_size}.{class_count[labels[0]]}.\" + img_name\n",
    "            # and ensure the folder exists\n",
    "            Path(img_dir).mkdir(parents=True, exist_ok=True)\n",
    "            class_count[labels[0]] += 1\n",
    "            img.save(img_path)"
   ]
  }
 ],
 "metadata": {
  "kernelspec": {
   "display_name": "ml",
   "language": "python",
   "name": "python3"
  },
  "language_info": {
   "codemirror_mode": {
    "name": "ipython",
    "version": 3
   },
   "file_extension": ".py",
   "mimetype": "text/x-python",
   "name": "python",
   "nbconvert_exporter": "python",
   "pygments_lexer": "ipython3",
   "version": "3.11.5"
  }
 },
 "nbformat": 4,
 "nbformat_minor": 2
}
